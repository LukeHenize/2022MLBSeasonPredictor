{
 "cells": [
  {
   "cell_type": "markdown",
   "id": "5171f109-30f9-40f8-8371-f6aa2a09e7ab",
   "metadata": {},
   "source": [
    "# 2022 MLB Season Predictor\n",
    "Luke Henize"
   ]
  },
  {
   "cell_type": "markdown",
   "id": "03431fb8-6914-46c8-ae1a-4b33fda88cab",
   "metadata": {},
   "source": [
    " **Objective**: gather data from the 2022 MLB season so far and simulate the result of the remaining games for each team.\n",
    " To do this we will need access to basic team statistics like number \n",
    " of wins, losses, and win percentage. In order to more accurately predict future games, the remaining season schedule for each team will also be accessed. The result of these games realistically depends on hundreds of factors, but to keep this model relatively simple, we'll just use head-to-head score throughout the first half of the season to determine a team's probability of winning a game against each given opponent."
   ]
  },
  {
   "cell_type": "code",
   "execution_count": 1,
   "id": "bbccf7c2-f41b-4739-9b05-dd4b79062124",
   "metadata": {},
   "outputs": [],
   "source": [
    "#import necessary libraries\n",
    "from bs4 import BeautifulSoup\n",
    "import requests\n",
    "import pandas as pd\n",
    "import csv\n",
    "import os\n",
    "import random\n",
    "\n",
    "#these are the team abbreviations we will use to refer to each team\n",
    "teams = [\"LAA\", \"HOU\", \"OAK\", \"TOR\", \"ATL\", \"MIL\", \"STL\", \"CHC\", \"ARI\", \"LAD\",\n",
    "\"SF\", \"CLE\", \"SEA\", \"MIA\", \"NYM\", \"WSH\", \"BAL\", \"SD\", \"PHI\", \"PIT\", \"TEX\", \"TB\",\n",
    "\"BOS\", \"CIN\", \"COL\", \"KC\", \"DET\", \"MIN\", \"CHW\", \"NYY\"]"
   ]
  },
  {
   "cell_type": "markdown",
   "id": "e0721029-0146-4424-b706-e65d77fd95ef",
   "metadata": {},
   "source": [
    "We need to look at the remaining schedule of each team. To do this, we'll create a new csv file for each team to hold the schedule and head-to-head stats. We'll use a function to create these files and fill the schedule quickly for all thirty teams.\n",
    "\n",
    "But first, because a few of the abbreviations used by Baseball Reference are different from the ones we used above, we'll create a dictionary to convert the names."
   ]
  },
  {
   "cell_type": "code",
   "execution_count": 2,
   "id": "c40cd5d0-6ab6-498a-a16d-7befc46b51f2",
   "metadata": {},
   "outputs": [],
   "source": [
    "bballRefNames = [\"LAA\", \"HOU\", \"OAK\", \"TOR\", \"ATL\", \"MIL\", \"STL\", \"CHC\", \"ARI\", \"LAD\",\n",
    "\"SFG\", \"CLE\", \"SEA\", \"MIA\", \"NYM\", \"WSN\", \"BAL\", \"SDP\", \"PHI\", \"PIT\", \"TEX\", \"TBR\",\n",
    "\"BOS\", \"CIN\", \"COL\", \"KCR\", \"DET\", \"MIN\", \"CHW\", \"NYY\"]\n",
    "abbrvToRef = {}\n",
    "refToAbbrv = {}\n",
    "i = 0\n",
    "while i < len(bballRefNames) :\n",
    "    abbrvToRef[teams[i]] = bballRefNames[i]\n",
    "    refToAbbrv[bballRefNames[i]] = teams[i]\n",
    "    i += 1"
   ]
  },
  {
   "cell_type": "markdown",
   "id": "c70ac73e-b0df-4bd2-873d-75986a8c2a32",
   "metadata": {},
   "source": [
    "Now we can write and call our function to create a schedule file for each MLB team. (This will take ~10 seconds to execute)"
   ]
  },
  {
   "cell_type": "code",
   "execution_count": 3,
   "id": "d979ad25-419f-4398-a571-e783edc46617",
   "metadata": {},
   "outputs": [],
   "source": [
    "def createScheduleCSV(teamName) :\n",
    "    path = \"schedules/\" + teamName + \".csv\"\n",
    "    file = open(path, \"w\")\n",
    "    writer = csv.writer(file)\n",
    "    #write file header\n",
    "    writer.writerow([\"Date\",\"Opponent\", \"Actual Result\", \"Predicted Result\", \"H2H Wins\", \"H2H Losses\"])\n",
    "\n",
    "    #get access to file\n",
    "    schedFile = schedFileTemplate[ :41] + abbrvToRef[teamName] + schedFileTemplate[41: ]\n",
    "    #use requests to get source code because the page content is not dynamic\n",
    "    try :\n",
    "        source = requests.get(schedFile)\n",
    "        source.raise_for_status()\n",
    "        soup = BeautifulSoup(source.text, \"html.parser\")\n",
    "        #find schedule in page source code\n",
    "        fullSched = soup.find(\"table\", id=\"team_schedule\").tbody\n",
    "        games = fullSched.find_all(\"tr\", recursive=False)\n",
    "        tableDividers = fullSched.find_all(\"tr\", class_=\"thead\")\n",
    "        #remove dividers from our schedule\n",
    "        for divider in tableDividers :\n",
    "            if divider in games :\n",
    "                games.remove(divider)\n",
    "\n",
    "        for game in games :\n",
    "\n",
    "            #check date if after All-Star Break, don't fill in win/loss\n",
    "            date = game.find(\"td\", attrs={\"data-stat\":\"date_game\"})[\"csk\"]\n",
    "\n",
    "            opp = game.find(\"td\", attrs={\"data-stat\":\"opp_ID\"}).string\n",
    "            #if opp is SDP, WSN, SFG, TBR, or KCR then convert back\n",
    "            opp = refToAbbrv[opp]\n",
    "\n",
    "            resultCell = game.find(\"td\", attrs={\"data-stat\":\"win_loss_result\"})\n",
    "            if resultCell is not None : \n",
    "                result = resultCell.string\n",
    "                #clear walk-off, we don't care\n",
    "                if \"-wo\" in result :\n",
    "                    result = result[0]\n",
    "            else : #game hasn't been played yet and we will predict\n",
    "                result = \"\"\n",
    "\n",
    "            writer.writerow([date, opp, result])\n",
    "        source.close()\n",
    "    except Exception as e:\n",
    "        print(e)\n",
    "    file.close()\n",
    "\n",
    "#Now we just call this function for each team (again, with the following abbreviations)\n",
    "teams = [\"LAA\", \"HOU\", \"OAK\", \"TOR\", \"ATL\", \"MIL\", \"STL\", \"CHC\", \"ARI\", \"LAD\",\n",
    "\"SF\", \"CLE\", \"SEA\", \"MIA\", \"NYM\", \"WSH\", \"BAL\", \"SD\", \"PHI\", \"PIT\", \"TEX\", \"TB\",\n",
    "\"BOS\", \"CIN\", \"COL\", \"KC\", \"DET\", \"MIN\", \"CHW\", \"NYY\"]\n",
    "#connect to the Baseball Reference page for each team using this link template.\n",
    "schedFileTemplate = \"https://www.baseball-reference.com/teams//2022-schedule-scores.shtml\"\n",
    "if not os.path.isdir(\"schedules\") :\n",
    "    os.mkdir(\"schedules\")\n",
    "for team in teams :\n",
    "    createScheduleCSV(team)"
   ]
  },
  {
   "cell_type": "markdown",
   "id": "46bc8c3e-165b-4623-98a5-ef6f5fb70dc8",
   "metadata": {},
   "source": [
    "At this point, we haven't filled in the head-to-head win and loss columns for the teams, so we'll go back through the csv files and calculate those now with this function."
   ]
  },
  {
   "cell_type": "code",
   "execution_count": 4,
   "id": "19d4fd4b-7c80-485e-838e-0c1ca3485d97",
   "metadata": {},
   "outputs": [],
   "source": [
    "def createH2HScores(file) :\n",
    "    schedule = pd.read_csv(file)\n",
    "    h2hScores = pd.DataFrame(columns = [\"Opponent\",\"H2H Wins\", \"H2H Losses\"])\n",
    "\n",
    "    #fill our head-to-head dataframe with each opponent on the schedule\n",
    "    for opp in schedule[\"Opponent\"] :\n",
    "        h2hScores.loc[len(h2hScores.index)] = [opp, 0, 0]\n",
    "\n",
    "    #fill in wins/losses in this dataframe by looping back over the schedule.\n",
    "    #we'll use this function to sum up cumulative h2h scores played before a certain game\n",
    "    def findPrevH2HScores(gameNum, opp) :\n",
    "        if gameNum == 0 : #special case for opening day\n",
    "            return [0, 0]\n",
    "        gameNum -= 1\n",
    "        #go back in the schedule until we find last game played against opp\n",
    "        while schedule.loc[gameNum, \"Opponent\"] != opp :\n",
    "            gameNum -= 1\n",
    "            if gameNum == -1 :\n",
    "                #no previous games have been played on schedule\n",
    "                return [0, 0]\n",
    "        return [h2hScores.loc[gameNum, \"H2H Wins\"], h2hScores.loc[gameNum, \"H2H Losses\"]]\n",
    "\n",
    "    for index, game in schedule.iterrows() :\n",
    "        opp = game[\"Opponent\"]\n",
    "        prevH2H = findPrevH2HScores(index, opp)\n",
    "        #if game hasn't been played, we just fill with prev score (don't increment W/L)\n",
    "        if pd.isnull(game[\"Actual Result\"]) :\n",
    "            h2hScores.loc[index] = [opp, prevH2H[0], prevH2H[1]]\n",
    "        #otherwise we can add either a W or L to h2hScores\n",
    "        else :\n",
    "            result = game[\"Actual Result\"]\n",
    "            if result == \"W\" :\n",
    "                h2hScores.loc[index] = [opp, prevH2H[0] + 1, prevH2H[1]]\n",
    "            elif result == \"L\" :\n",
    "                h2hScores.loc[index] = [opp, prevH2H[0], prevH2H[1] + 1]\n",
    "\n",
    "    #With the head-to-head scores finally calculated, we can add them back to\n",
    "    #the teams' csv files. We'll need to combine the schedule and h2hScores \n",
    "    #dataframes as we cannot just edit the rows in the csv.\n",
    "    schedule[\"H2H Wins\"] = h2hScores[\"H2H Wins\"]\n",
    "    schedule[\"H2H Losses\"] = h2hScores[\"H2H Losses\"]\n",
    "    #as stated at the start of the notebook, the predictions will be made on\n",
    "    #head-to-head results, so we also need to calculate a win percentage\n",
    "    #based on the h2h columns\n",
    "    #1 win and 1 loss are added to account for games with 0 H2H wins/losses\n",
    "    winChance = round((schedule[\"H2H Wins\"] + 1) / (schedule[\"H2H Wins\"] + schedule[\"H2H Losses\"] + 2), 3)\n",
    "    schedule[\"Win %\"] = winChance\n",
    "\n",
    "    #write h2hScores into the original csv file\n",
    "    schedule.to_csv(file, index=False)"
   ]
  },
  {
   "cell_type": "markdown",
   "id": "52c9b864-e9bd-4ccd-9675-07b9c5595ffc",
   "metadata": {},
   "source": [
    "After we've calculated a win % for each team for each game depending on their opponent, we're finally ready to begin predicting games. For each game that hasn't been played yet, we'll make a prediction using our calculated win percentage and a simple randomly generated number guess. Here's the function for that:"
   ]
  },
  {
   "cell_type": "code",
   "execution_count": 5,
   "id": "f0f17e0f-ef6a-4515-9008-0ee01328b8db",
   "metadata": {},
   "outputs": [],
   "source": [
    "def predictSeason(file) :\n",
    "    schedule = pd.read_csv(file)\n",
    "    predictions = []\n",
    "    #we don't need to predict any games that have already happened\n",
    "    for index, game in schedule.iterrows() :\n",
    "        if not pd.isnull(game[\"Actual Result\"]) :\n",
    "            predictions.append(\"-\")\n",
    "        elif pd.isnull(game[\"Predicted Result\"]) : #check if we've already predicted this game from another file\n",
    "            #predict game based on h2h win%\n",
    "            winChance = game[\"Win %\"]\n",
    "            #generate a random number (0 -> 1.000) to simulate the game\n",
    "            rand = random.randrange(0, 1000) / 1000.0\n",
    "            #compare rand to winChance to see if game was won/lost\n",
    "            if rand <= winChance :\n",
    "                predictions.append(\"W\")\n",
    "            else :\n",
    "                predictions.append(\"L\")\n",
    "    #add our predictions to the full schedule and rewrite csv one more time\n",
    "    schedule[\"Predicted Result\"] = predictions\n",
    "    schedule.to_csv(file, index=False)"
   ]
  },
  {
   "cell_type": "markdown",
   "id": "6b2a2ab0-033c-4486-adba-6cfd7e63d8dc",
   "metadata": {},
   "source": [
    "At the very end of each team's csv file, we can calculate the season record and add the team's record to a dictionary."
   ]
  },
  {
   "cell_type": "code",
   "execution_count": 6,
   "id": "a24594f9-45f0-4728-b03c-0ee6a8805b79",
   "metadata": {},
   "outputs": [],
   "source": [
    "def calcSeasonTeamStats(file, winCounts, team) :\n",
    "    schedule = pd.read_csv(file)\n",
    "    allResults = pd.concat([schedule[\"Actual Result\"], schedule[\"Predicted Result\"]])\n",
    "\n",
    "    winCount = allResults.value_counts()[\"W\"] \n",
    "    lossCount = allResults.value_counts()[\"L\"]\n",
    "    winChance = round((winCount / (winCount + lossCount)), 3)\n",
    "    winCounts[team] = winCount\n",
    "    #write(append) to csv\n",
    "    handle = open(file, \"a\")\n",
    "    writer = csv.writer(handle)\n",
    "    writer.writerow([\"Wins\", \"Losses\", \"Win %\"])\n",
    "    writer.writerow([winCount, lossCount, winChance])\n",
    "    handle.close()"
   ]
  },
  {
   "cell_type": "markdown",
   "id": "6386a217-7f8c-4fe3-9c82-fd632cfdeb61",
   "metadata": {},
   "source": [
    "With these three functions defined, we can now loop through each team .csv file and complete our predictions. We will get access to each team's csv file and generate 1) the head-to-head scores and win percentages, 2) predictions for each game yet to be played this season, and 3) the season-long record for each team. (This will take another ~10 seconds or longer)."
   ]
  },
  {
   "cell_type": "code",
   "execution_count": 7,
   "id": "93309bf7-1f29-439e-bc99-21c3533571af",
   "metadata": {},
   "outputs": [],
   "source": [
    "#create a dictionary to hold each team's win count\n",
    "winCounts = {}\n",
    "fileTemplate = \"schedules/.csv\"\n",
    "for team in teams :\n",
    "    #find the team's file and call our functions\n",
    "    file = fileTemplate[ :10] + team + fileTemplate[10: ]\n",
    "    createH2HScores(file)\n",
    "    predictSeason(file)\n",
    "    calcSeasonTeamStats(file, winCounts, team)"
   ]
  },
  {
   "cell_type": "markdown",
   "id": "2c41c6e3-f12f-4437-ae5c-f612d3a6d41d",
   "metadata": {},
   "source": [
    "The \"schedules\" folder now holds a .csv file for each team containing the team's schedule, actual results of games already played, predicted results of games that have yet to be played, and head to head scores against specific opponents. (Note that the .csv files seem to display incorrectly when using the default Jupyter csv viewer. Try using excel or some other software).\n",
    "\n",
    "After calculating the season stats for each team, the winCounts dictionary should hold the record for each team. We can now create one last file to conveniently display division standings across the league."
   ]
  },
  {
   "cell_type": "code",
   "execution_count": 8,
   "id": "da5d58ce-893c-4ca1-b702-48d6c31a2e05",
   "metadata": {},
   "outputs": [],
   "source": [
    "#We'll organize the teams into divisions by creating this dataframe\n",
    "divisions = pd.DataFrame()\n",
    "divisions[\"AL East\"] = [[\"NYY\", winCounts[\"NYY\"]], [\"BOS\", winCounts[\"BOS\"]], [\"TB\", winCounts[\"TB\"]], [\"TOR\", winCounts[\"TOR\"]], [\"BAL\", winCounts[\"BAL\"]]]\n",
    "divisions[\"AL Central\"] = [[\"MIN\", winCounts[\"MIN\"]], [\"CHW\", winCounts[\"CHW\"]], [\"CLE\", winCounts[\"CLE\"]], [\"KC\", winCounts[\"KC\"]], [\"DET\", winCounts[\"DET\"]]]\n",
    "divisions[\"AL West\"] = [[\"LAA\", winCounts[\"LAA\"]], [\"HOU\", winCounts[\"HOU\"]], [\"TEX\", winCounts[\"TEX\"]], [\"SEA\", winCounts[\"SEA\"]], [\"OAK\", winCounts[\"OAK\"]]]\n",
    "divisions[\"NL East\"] = [[\"NYM\", winCounts[\"NYM\"]], [\"ATL\", winCounts[\"ATL\"]], [\"WSH\", winCounts[\"WSH\"]], [\"PHI\", winCounts[\"PHI\"]], [\"MIA\", winCounts[\"MIA\"]]]\n",
    "divisions[\"NL Central\"] = [[\"STL\", winCounts[\"STL\"]], [\"MIL\", winCounts[\"MIL\"]], [\"CHC\", winCounts[\"CHC\"]], [\"CIN\", winCounts[\"CIN\"]], [\"PIT\", winCounts[\"PIT\"]]]\n",
    "divisions[\"NL West\"] = [[\"SD\", winCounts[\"SD\"]], [\"LAD\", winCounts[\"LAD\"]], [\"SF\", winCounts[\"SF\"]], [\"ARI\", winCounts[\"ARI\"]], [\"COL\", winCounts[\"COL\"]]]\n",
    "#sort each divisions according to number of wins\n",
    "for division in divisions :\n",
    "    sortedDiv = sorted(divisions[division], key = lambda x : x[1], reverse=True)\n",
    "    divisions[division] = sortedDiv\n",
    "#now create a standings file and write to it\n",
    "standings = open(\"FinalStandings.csv\", \"w\")\n",
    "writer = csv.writer(standings)\n",
    "writer.writerow([\"MLB Predicted Standings\"])\n",
    "writer.writerow([\"\"]) #print a space for formatting\n",
    "winTotal = 0 #used for debugging\n",
    "for division in divisions :\n",
    "    writer.writerow([division + \" Standings\"])\n",
    "    writer.writerow([\"Team\", \"Wins\", \"Losses\"])\n",
    "    for team in divisions[division] :\n",
    "        wins = winCounts[team[0]]\n",
    "        losses = 162 - wins\n",
    "        writer.writerow([team[0], wins, losses])\n",
    "\n",
    "        winTotal += wins\n",
    "writer.writerow([\"Total Wins\", \"Total Games\"])\n",
    "writer.writerow([winTotal, (30 * 162) / 2])\n",
    "standings.close()"
   ]
  },
  {
   "cell_type": "markdown",
   "id": "4539b61d-6a7e-4608-a98e-db76405f4b17",
   "metadata": {},
   "source": [
    "And with that, all 2022 regular season games have been predicted! See FinalStandings.csv for a convenient display of division standings, the schedules folder for the results of each individual game played by each team, or compare the results generated here with the predictions on [FanGraphs.com](https://www.fangraphs.com/standings/playoff-odds) (using a model I can only assume is significantly more complex). You can always run this code again and generate new (often vastly different...) predictions!"
   ]
  },
  {
   "cell_type": "markdown",
   "id": "de3a7085-1baa-4d60-ab4d-5e4ceaa462c4",
   "metadata": {},
   "source": [
    "## Final Comments on this Predictor\n",
    "Predicting whether or not a team will win a certain baseball game is a classification problem- we must either classify a game (on a given date, against a certain opponent with a certain record) as a win or a loss. In baseball there is an immense amount of data collected not only about each team but about every individual player that we could've used to classify or predict each game. For example, we could get a good idea of how strong a team's offense is by collecting data on stats like team batting average, on base percentage, home run count, or average number of runs scored. A team's defense could be measured by team ERA, walks and strikeouts per nine innings, defensive runs saved, etc. It would take more exploration of this data to confirm that these are helpful predictors of whether a game will be won, but it seems reasonable to assume that they would be.\n",
    "\n",
    "Because my project here simply predicts each game based off of one factor (head-to-head win percentage), my predictive model is extremely primitive. The end-of-season results that it predicts do oftentimes seem very possible from as early on as the all-star break in July (see ASG Predictions folder), but regardless I have put more effort in this project in the more low level data science practices, such as working with basic Python and Pandas (creating and modifying dataframes), data scraping (from BaseballReference.com), and displaying data (in this case only in simple .csv files, and not in any more advanced data visualizations). I think that what I have built here could be used as a basis for a more advanced predictive model, as described in part above, that could use machine learning libraries to more confidently predict results once further data is scraped for the training (already played games) and test (future games) datasets.\n",
    "\n",
    "To my knowledge the only error in my model is that each game is predicted twice from each team's .csv file. For instance, if NYY vs. HOU is listed as a 50% chance of winning for both teams, it may be predicted as a win for NYY when iterating through and predicting all the games in the Yankees schedule, and again predicted as a win for HOU in the Astros schedule. So, each MLB team receives predictions for every game on their 162-game schedule, but due to these (uncommon) duplicate predictions by the model there are not usually 2,430 total wins and 2,430 total losses across the league for the year despite that being the number of games played. To check the variation in this number, I added one final line to FinalStandings.csv that shows how many wins were recorded across the entire leage (again, where 2,430 is how many there should ideally be). Typically there is not much variation (give or take 20 wins off of 2,430)."
   ]
  }
 ],
 "metadata": {
  "kernelspec": {
   "display_name": "Python 3 (ipykernel)",
   "language": "python",
   "name": "python3"
  },
  "language_info": {
   "codemirror_mode": {
    "name": "ipython",
    "version": 3
   },
   "file_extension": ".py",
   "mimetype": "text/x-python",
   "name": "python",
   "nbconvert_exporter": "python",
   "pygments_lexer": "ipython3",
   "version": "3.10.4"
  }
 },
 "nbformat": 4,
 "nbformat_minor": 5
}
